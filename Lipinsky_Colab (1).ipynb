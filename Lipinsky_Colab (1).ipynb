{
  "nbformat": 4,
  "nbformat_minor": 0,
  "metadata": {
    "colab": {
      "name": "Lipinsky_Colab.ipynb",
      "provenance": []
    },
    "kernelspec": {
      "name": "python2",
      "display_name": "Python 2"
    }
  },
  "cells": [
    {
      "cell_type": "markdown",
      "metadata": {
        "id": "1__SCzcmo4tj",
        "colab_type": "text"
      },
      "source": [
        "# PYTHON 2.7 version\n",
        "## (this is necessary as some python libraries are not available for python 3)\n"
      ]
    },
    {
      "cell_type": "markdown",
      "metadata": {
        "id": "g_T0_ItBprt9",
        "colab_type": "text"
      },
      "source": [
        "## Script to calculate molecular descriptors\n",
        "### In the following cell linux command to install the python libraries"
      ]
    },
    {
      "cell_type": "code",
      "metadata": {
        "id": "Pi9w9KsGi1hB",
        "colab_type": "code",
        "colab": {}
      },
      "source": [
        "# rdkit: https://www.rdkit.org/\n",
        "# openbabel: http://openbabel.org/wiki/Main_Page\n",
        "# sklearn: https://scikit-learn.org/stable/\n",
        "\n",
        "!apt-get install python-rdkit librdkit1 rdkit-data -qq python-openbabel python-sklearn"
      ],
      "execution_count": 0,
      "outputs": []
    },
    {
      "cell_type": "code",
      "metadata": {
        "id": "pfiICB4jp9c3",
        "colab_type": "code",
        "colab": {}
      },
      "source": [
        "# import the needed library\n",
        "\n",
        "from rdkit import Chem\n",
        "from rdkit.Chem.Draw import IPythonConsole\n",
        "from rdkit.Chem import AllChem\n",
        "from rdkit.Chem import Descriptors\n",
        "from rdkit.Chem import Draw\n",
        "\n",
        "import pybel,openbabel"
      ],
      "execution_count": 0,
      "outputs": []
    },
    {
      "cell_type": "code",
      "metadata": {
        "id": "qOzgtuZENk3Z",
        "colab_type": "code",
        "colab": {}
      },
      "source": [
        "# Prepare a list of SMILES\n",
        "compounds = [\n",
        "    'CCCCO',\n",
        "    'C1=CC=CC=C1C(=O)O',\n",
        "    'C1CCCCCCCCCCCC1',\n",
        "    'C1CCC1',\n",
        "    'C[C@@H](CC1=CC=CC=C1)NC',\n",
        "    'Cn1cnc2c1c(=O)n(c(=O)n2C)C',\n",
        "    'C1=C2C(=CC(=C1Cl)Cl)OC3=CC(=C(C=C3O2)Cl)Cl',\n",
        "]"
      ],
      "execution_count": 0,
      "outputs": []
    },
    {
      "cell_type": "code",
      "metadata": {
        "id": "-G1JTP-ayLDR",
        "colab_type": "code",
        "colab": {}
      },
      "source": [
        "def calculate_rdkit_lipinsky(smiles, black_list=[]):\n",
        "  '''\n",
        "  A function to calculate RDKit lipinsky Ro5\n",
        "  '''\n",
        "  Lipinsky = ['MolWt', 'MolLogP', 'NumHAcceptors', 'NumHDonors']\n",
        "  rdmol = Chem.MolFromSmiles(smiles)\n",
        "  for name, func in [x for x in Descriptors.descList if x[0] in Lipinsky]:\n",
        "      if name not in black_list:\n",
        "          value = func(rdmol)\n",
        "          print(\"RDKit --> {} = {}\".format(name, value))"
      ],
      "execution_count": 0,
      "outputs": []
    },
    {
      "cell_type": "code",
      "metadata": {
        "colab_type": "code",
        "id": "HFJNgSmm1a5v",
        "colab": {}
      },
      "source": [
        "def calculate_ob_lipinsky(smiles):\n",
        "    '''\n",
        "    A function to calculate openbabel lipinsky Ro5\n",
        "    '''\n",
        "    Lipinsky = ['MW', 'HBA1', 'HBD', 'logP']\n",
        "    molecule = pybel.readstring('smi', smiles)\n",
        "    descs = molecule.calcdesc()\n",
        "    result = []\n",
        "    for name in Lipinsky:\n",
        "        print(\"Openbabel --> {} = {}\".format(name, descs[name]))"
      ],
      "execution_count": 0,
      "outputs": []
    },
    {
      "cell_type": "code",
      "metadata": {
        "id": "kGa0rEAHrNrD",
        "colab_type": "code",
        "outputId": "4bb7fe54-d422-404d-ed37-ea483273de2f",
        "colab": {
          "base_uri": "https://localhost:8080/",
          "height": 217
        }
      },
      "source": [
        "# Convert all the SMILES int rdkit mol objects and store in a new list\n",
        "compounds_2D = []\n",
        "for compound in compounds:\n",
        "  m = Chem.MolFromSmiles(compound)\n",
        "  compounds_2D.append(Chem.MolFromSmiles(compound))\n",
        "# Display all the moleculess\n",
        "Draw.MolsToImage(compounds_2D)"
      ],
      "execution_count": 0,
      "outputs": [
        {
          "output_type": "execute_result",
          "data": {
            "image/png": "[encoded data removed]",
            "text/plain": [
              "<PIL.Image.Image image mode=RGBA size=1400x200 at 0x7F6EE9DFC190>"
            ]
          },
          "metadata": {
            "tags": []
          },
          "execution_count": 129
        }
      ]
    },
    {
      "cell_type": "code",
      "metadata": {
        "id": "u6x3yQv9ysif",
        "colab_type": "code",
        "outputId": "247c1106-2aa2-4b6d-ba0c-133a641a5187",
        "colab": {
          "base_uri": "https://localhost:8080/",
          "height": 1207
        }
      },
      "source": [
        "for i, compound in enumerate(compounds):\n",
        "  print '====================== Compound', i, '======================' \n",
        "  calculate_rdkit_lipinsky(compound)\n",
        "  print('')\n",
        "  calculate_ob_lipinsky(compound)"
      ],
      "execution_count": 0,
      "outputs": [
        {
          "output_type": "stream",
          "text": [
            "====================== Compound 0 ======================\n",
            "RDKit --> MolWt = 74.123\n",
            "RDKit --> NumHAcceptors = 1\n",
            "RDKit --> NumHDonors = 1\n",
            "RDKit --> MolLogP = 0.7788\n",
            "\n",
            "Openbabel --> MW = 74.1216\n",
            "Openbabel --> HBA1 = 1.0\n",
            "Openbabel --> HBD = 1.0\n",
            "Openbabel --> logP = 0.7788\n",
            "====================== Compound 1 ======================\n",
            "RDKit --> MolWt = 122.123\n",
            "RDKit --> NumHAcceptors = 1\n",
            "RDKit --> NumHDonors = 1\n",
            "RDKit --> MolLogP = 1.3848\n",
            "\n",
            "Openbabel --> MW = 122.12134\n",
            "Openbabel --> HBA1 = 2.0\n",
            "Openbabel --> HBD = 1.0\n",
            "Openbabel --> logP = 1.3848\n",
            "====================== Compound 2 ======================\n",
            "RDKit --> MolWt = 182.351\n",
            "RDKit --> NumHAcceptors = 0\n",
            "RDKit --> NumHDonors = 0\n",
            "RDKit --> MolLogP = 5.0713\n",
            "\n",
            "Openbabel --> MW = 182.34554\n",
            "Openbabel --> HBA1 = 0.0\n",
            "Openbabel --> HBD = 0.0\n",
            "Openbabel --> logP = 5.0713\n",
            "====================== Compound 3 ======================\n",
            "RDKit --> MolWt = 56.108\n",
            "RDKit --> NumHAcceptors = 0\n",
            "RDKit --> NumHDonors = 0\n",
            "RDKit --> MolLogP = 1.5604\n",
            "\n",
            "Openbabel --> MW = 56.10632\n",
            "Openbabel --> HBA1 = 0.0\n",
            "Openbabel --> HBD = 0.0\n",
            "Openbabel --> logP = 1.5604\n",
            "====================== Compound 4 ======================\n",
            "RDKit --> MolWt = 149.237\n",
            "RDKit --> NumHAcceptors = 1\n",
            "RDKit --> NumHDonors = 1\n",
            "RDKit --> MolLogP = 1.837\n",
            "\n",
            "Openbabel --> MW = 149.2328\n",
            "Openbabel --> HBA1 = 2.0\n",
            "Openbabel --> HBD = 1.0\n",
            "Openbabel --> logP = 2.2279\n",
            "====================== Compound 5 ======================\n",
            "RDKit --> MolWt = 194.194\n",
            "RDKit --> NumHAcceptors = 6\n",
            "RDKit --> NumHDonors = 0\n",
            "RDKit --> MolLogP = -1.0293\n",
            "\n",
            "Openbabel --> MW = 194.1906\n",
            "Openbabel --> HBA1 = 3.0\n",
            "Openbabel --> HBD = 0.0\n",
            "Openbabel --> logP = -1.0293\n",
            "====================== Compound 6 ======================\n",
            "RDKit --> MolWt = 321.974\n",
            "RDKit --> NumHAcceptors = 2\n",
            "RDKit --> NumHDonors = 0\n",
            "RDKit --> MolLogP = 6.1982\n",
            "\n",
            "Openbabel --> MW = 321.97096\n",
            "Openbabel --> HBA1 = 2.0\n",
            "Openbabel --> HBD = 0.0\n",
            "Openbabel --> logP = 6.1982\n"
          ],
          "name": "stdout"
        }
      ]
    },
    {
      "cell_type": "code",
      "metadata": {
        "id": "NHj3tJPT1rPN",
        "colab_type": "code",
        "colab": {}
      },
      "source": [
        ""
      ],
      "execution_count": 0,
      "outputs": []
    }
  ]
}